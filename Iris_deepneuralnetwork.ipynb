{
 "cells": [
  {
   "cell_type": "code",
   "execution_count": 58,
   "metadata": {},
   "outputs": [],
   "source": [
    "import numpy as np\n",
    "import keras \n",
    "from keras.models import Sequential\n",
    "from keras.layers import Dense, Dropout\n",
    "from sklearn import datasets\n",
    "import matplotlib.pyplot as plt"
   ]
  },
  {
   "cell_type": "code",
   "execution_count": 59,
   "metadata": {},
   "outputs": [],
   "source": [
    "#Data\n",
    "data = datasets.load_iris()\n",
    "\n",
    "#print(data)"
   ]
  },
  {
   "cell_type": "code",
   "execution_count": 60,
   "metadata": {},
   "outputs": [],
   "source": [
    "x = data.data\n",
    "y = data.target\n",
    "z = data.target_names"
   ]
  },
  {
   "cell_type": "code",
   "execution_count": 61,
   "metadata": {},
   "outputs": [
    {
     "name": "stdout",
     "output_type": "stream",
     "text": [
      "(105, 4)\n",
      "(45, 4)\n"
     ]
    }
   ],
   "source": [
    "#split dataset\n",
    "from sklearn.model_selection import train_test_split\n",
    "x_train, x_validation, y_train, y_validation = train_test_split(x, y, test_size=0.3)\n",
    "\n",
    "#data shapes\n",
    "print(x_train.shape)\n",
    "print(x_validation.shape)"
   ]
  },
  {
   "cell_type": "code",
   "execution_count": 62,
   "metadata": {},
   "outputs": [],
   "source": [
    "#Build model\n",
    "model = Sequential()\n",
    "model.add(Dense(100,input_shape=(4,), activation='relu'))\n",
    "model.add(Dropout(0.4))\n",
    "model.add(Dense(3, activation='softmax'))"
   ]
  },
  {
   "cell_type": "code",
   "execution_count": 63,
   "metadata": {},
   "outputs": [
    {
     "name": "stdout",
     "output_type": "stream",
     "text": [
      "Model: \"sequential_1\"\n",
      "_________________________________________________________________\n",
      " Layer (type)                Output Shape              Param #   \n",
      "=================================================================\n",
      " dense_2 (Dense)             (None, 100)               500       \n",
      "                                                                 \n",
      " dropout_1 (Dropout)         (None, 100)               0         \n",
      "                                                                 \n",
      " dense_3 (Dense)             (None, 3)                 303       \n",
      "                                                                 \n",
      "=================================================================\n",
      "Total params: 803\n",
      "Trainable params: 803\n",
      "Non-trainable params: 0\n",
      "_________________________________________________________________\n"
     ]
    }
   ],
   "source": [
    "model.summary()"
   ]
  },
  {
   "cell_type": "code",
   "execution_count": 64,
   "metadata": {},
   "outputs": [],
   "source": [
    "#compile model\n",
    "model.compile(optimizer=\"adam\", loss=\"sparse_categorical_crossentropy\", metrics=[\"accuracy\"])"
   ]
  },
  {
   "cell_type": "code",
   "execution_count": 65,
   "metadata": {},
   "outputs": [
    {
     "name": "stdout",
     "output_type": "stream",
     "text": [
      "Epoch 1/50\n",
      "4/4 [==============================] - 1s 5ms/step - loss: 1.3503 - accuracy: 0.3238\n",
      "Epoch 2/50\n",
      "4/4 [==============================] - 0s 8ms/step - loss: 1.0671 - accuracy: 0.4286\n",
      "Epoch 3/50\n",
      "4/4 [==============================] - 0s 12ms/step - loss: 1.1298 - accuracy: 0.4286\n",
      "Epoch 4/50\n",
      "4/4 [==============================] - 0s 6ms/step - loss: 1.1535 - accuracy: 0.4000\n",
      "Epoch 5/50\n",
      "4/4 [==============================] - 0s 12ms/step - loss: 0.9591 - accuracy: 0.6000\n",
      "Epoch 6/50\n",
      "4/4 [==============================] - 0s 4ms/step - loss: 0.9274 - accuracy: 0.5810\n",
      "Epoch 7/50\n",
      "4/4 [==============================] - 0s 3ms/step - loss: 0.9465 - accuracy: 0.4286\n",
      "Epoch 8/50\n",
      "4/4 [==============================] - 0s 4ms/step - loss: 1.0176 - accuracy: 0.4857\n",
      "Epoch 9/50\n",
      "4/4 [==============================] - 0s 5ms/step - loss: 0.9720 - accuracy: 0.5333\n",
      "Epoch 10/50\n",
      "4/4 [==============================] - 0s 5ms/step - loss: 0.8707 - accuracy: 0.5048\n",
      "Epoch 11/50\n",
      "4/4 [==============================] - 0s 6ms/step - loss: 0.8798 - accuracy: 0.5524\n",
      "Epoch 12/50\n",
      "4/4 [==============================] - 0s 7ms/step - loss: 0.8757 - accuracy: 0.5333\n",
      "Epoch 13/50\n",
      "4/4 [==============================] - 0s 3ms/step - loss: 0.7903 - accuracy: 0.6286\n",
      "Epoch 14/50\n",
      "4/4 [==============================] - 0s 4ms/step - loss: 0.7061 - accuracy: 0.6667\n",
      "Epoch 15/50\n",
      "4/4 [==============================] - 0s 5ms/step - loss: 0.7554 - accuracy: 0.6571\n",
      "Epoch 16/50\n",
      "4/4 [==============================] - 0s 5ms/step - loss: 0.7949 - accuracy: 0.6190\n",
      "Epoch 17/50\n",
      "4/4 [==============================] - 0s 12ms/step - loss: 0.7539 - accuracy: 0.6095\n",
      "Epoch 18/50\n",
      "4/4 [==============================] - 0s 3ms/step - loss: 0.7126 - accuracy: 0.6762\n",
      "Epoch 19/50\n",
      "4/4 [==============================] - 0s 5ms/step - loss: 0.7003 - accuracy: 0.6571\n",
      "Epoch 20/50\n",
      "4/4 [==============================] - 0s 6ms/step - loss: 0.6327 - accuracy: 0.7238\n",
      "Epoch 21/50\n",
      "4/4 [==============================] - 0s 5ms/step - loss: 0.6949 - accuracy: 0.6000\n",
      "Epoch 22/50\n",
      "4/4 [==============================] - 0s 6ms/step - loss: 0.7070 - accuracy: 0.5619\n",
      "Epoch 23/50\n",
      "4/4 [==============================] - 0s 6ms/step - loss: 0.6140 - accuracy: 0.7143\n",
      "Epoch 24/50\n",
      "4/4 [==============================] - 0s 4ms/step - loss: 0.6043 - accuracy: 0.7238\n",
      "Epoch 25/50\n",
      "4/4 [==============================] - 0s 4ms/step - loss: 0.6400 - accuracy: 0.6857\n",
      "Epoch 26/50\n",
      "4/4 [==============================] - 0s 6ms/step - loss: 0.6344 - accuracy: 0.7238\n",
      "Epoch 27/50\n",
      "4/4 [==============================] - 0s 5ms/step - loss: 0.5757 - accuracy: 0.7238\n",
      "Epoch 28/50\n",
      "4/4 [==============================] - 0s 9ms/step - loss: 0.5627 - accuracy: 0.6857\n",
      "Epoch 29/50\n",
      "4/4 [==============================] - 0s 9ms/step - loss: 0.5707 - accuracy: 0.6857\n",
      "Epoch 30/50\n",
      "4/4 [==============================] - 0s 7ms/step - loss: 0.5631 - accuracy: 0.7714\n",
      "Epoch 31/50\n",
      "4/4 [==============================] - 0s 12ms/step - loss: 0.5212 - accuracy: 0.7524\n",
      "Epoch 32/50\n",
      "4/4 [==============================] - 0s 7ms/step - loss: 0.4872 - accuracy: 0.8286\n",
      "Epoch 33/50\n",
      "4/4 [==============================] - 0s 4ms/step - loss: 0.5008 - accuracy: 0.7619\n",
      "Epoch 34/50\n",
      "4/4 [==============================] - 0s 27ms/step - loss: 0.4940 - accuracy: 0.7905\n",
      "Epoch 35/50\n",
      "4/4 [==============================] - 0s 30ms/step - loss: 0.4930 - accuracy: 0.7524\n",
      "Epoch 36/50\n",
      "4/4 [==============================] - 0s 8ms/step - loss: 0.5297 - accuracy: 0.7524\n",
      "Epoch 37/50\n",
      "4/4 [==============================] - 0s 2ms/step - loss: 0.5355 - accuracy: 0.7810\n",
      "Epoch 38/50\n",
      "4/4 [==============================] - 0s 3ms/step - loss: 0.4693 - accuracy: 0.8190\n",
      "Epoch 39/50\n",
      "4/4 [==============================] - 0s 4ms/step - loss: 0.5148 - accuracy: 0.6952\n",
      "Epoch 40/50\n",
      "4/4 [==============================] - 0s 3ms/step - loss: 0.4737 - accuracy: 0.8000\n",
      "Epoch 41/50\n",
      "4/4 [==============================] - 0s 4ms/step - loss: 0.4795 - accuracy: 0.7905\n",
      "Epoch 42/50\n",
      "4/4 [==============================] - 0s 4ms/step - loss: 0.4680 - accuracy: 0.8381\n",
      "Epoch 43/50\n",
      "4/4 [==============================] - 0s 37ms/step - loss: 0.4625 - accuracy: 0.7810\n",
      "Epoch 44/50\n",
      "4/4 [==============================] - 0s 5ms/step - loss: 0.4968 - accuracy: 0.7810\n",
      "Epoch 45/50\n",
      "4/4 [==============================] - 0s 4ms/step - loss: 0.4571 - accuracy: 0.7905\n",
      "Epoch 46/50\n",
      "4/4 [==============================] - 0s 6ms/step - loss: 0.4497 - accuracy: 0.7905\n",
      "Epoch 47/50\n",
      "4/4 [==============================] - 0s 3ms/step - loss: 0.4637 - accuracy: 0.8000\n",
      "Epoch 48/50\n",
      "4/4 [==============================] - 0s 7ms/step - loss: 0.4640 - accuracy: 0.7619\n",
      "Epoch 49/50\n",
      "4/4 [==============================] - 0s 14ms/step - loss: 0.4498 - accuracy: 0.7905\n",
      "Epoch 50/50\n",
      "4/4 [==============================] - 0s 11ms/step - loss: 0.4428 - accuracy: 0.8190\n"
     ]
    }
   ],
   "source": [
    "#fit the model\n",
    "hist = model.fit(x_train,y_train, epochs=50)"
   ]
  },
  {
   "cell_type": "code",
   "execution_count": 66,
   "metadata": {},
   "outputs": [
    {
     "data": {
      "text/plain": [
       "Text(0.5, 0, 'epoch')"
      ]
     },
     "execution_count": 66,
     "metadata": {},
     "output_type": "execute_result"
    },
    {
     "data": {
      "image/png": "[encoded data removed]",
      "text/plain": [
       "<Figure size 432x288 with 1 Axes>"
      ]
     },
     "metadata": {
      "needs_background": "light"
     },
     "output_type": "display_data"
    },
    {
     "data": {
      "image/png": "[encoded data removed]",
      "text/plain": [
       "<Figure size 432x288 with 1 Axes>"
      ]
     },
     "metadata": {
      "needs_background": "light"
     },
     "output_type": "display_data"
    }
   ],
   "source": [
    "plt.figure()\n",
    "#plt.plot(hist.history['validation_loss'], 'b')\n",
    "plt.plot(hist.history['loss'], 'r')\n",
    "plt.ylabel('loss')\n",
    "\n",
    "plt.figure()\n",
    "#plt.plot(hist.history['validation_accuracy'], 'b')\n",
    "plt.plot(hist.history['accuracy'], 'r')\n",
    "plt.ylabel('acc')\n",
    "plt.xlabel('epoch')"
   ]
  },
  {
   "cell_type": "code",
   "execution_count": 67,
   "metadata": {},
   "outputs": [
    {
     "name": "stdout",
     "output_type": "stream",
     "text": [
      "2/2 [==============================] - 0s 3ms/step - loss: 0.3316 - accuracy: 0.9333\n"
     ]
    },
    {
     "data": {
      "text/plain": [
       "[0.33160391449928284, 0.9333333373069763]"
      ]
     },
     "execution_count": 67,
     "metadata": {},
     "output_type": "execute_result"
    }
   ],
   "source": [
    "#evaluate\n",
    "model.evaluate(x_validation, y_validation)"
   ]
  },
  {
   "cell_type": "code",
   "execution_count": 92,
   "metadata": {},
   "outputs": [
    {
     "name": "stdout",
     "output_type": "stream",
     "text": [
      "[[9.44233060e-01 4.94058467e-02 6.36111572e-03]\n",
      " [1.26149179e-03 3.10846269e-01 6.87892258e-01]\n",
      " [2.77849790e-02 5.69106042e-01 4.03109014e-01]\n",
      " [1.00691000e-03 2.59598762e-01 7.39394307e-01]\n",
      " [1.06669811e-03 2.69962102e-01 7.28971183e-01]\n",
      " [1.30379871e-02 4.33101058e-01 5.53860962e-01]\n",
      " [8.85590553e-01 9.57114324e-02 1.86980534e-02]\n",
      " [9.40355539e-01 5.19812703e-02 7.66322622e-03]\n",
      " [9.45014596e-01 4.78503667e-02 7.13507924e-03]\n",
      " [9.06430185e-01 7.94339851e-02 1.41358757e-02]\n",
      " [6.67957217e-03 4.28294539e-01 5.65025866e-01]\n",
      " [9.56055284e-01 3.91320176e-02 4.81258612e-03]\n",
      " [9.59457517e-01 3.55332531e-02 5.00927726e-03]\n",
      " [5.06751202e-02 5.41785359e-01 4.07539517e-01]\n",
      " [5.51468618e-02 5.78877687e-01 3.65975440e-01]\n",
      " [9.31529760e-01 5.94866648e-02 8.98362510e-03]\n",
      " [1.48765845e-02 4.91713375e-01 4.93410021e-01]\n",
      " [2.93831620e-03 3.51631522e-01 6.45430148e-01]\n",
      " [1.48584030e-03 2.80373812e-01 7.18140304e-01]\n",
      " [9.60763097e-01 3.48523520e-02 4.38455027e-03]\n",
      " [4.33072522e-02 5.63924015e-01 3.92768711e-01]\n",
      " [1.84987839e-02 5.41655362e-01 4.39845860e-01]\n",
      " [9.17476118e-01 6.95597082e-02 1.29641397e-02]\n",
      " [2.31650844e-03 2.88812280e-01 7.08871186e-01]\n",
      " [4.11090162e-03 3.52472931e-01 6.43416107e-01]\n",
      " [9.44649756e-01 4.83559296e-02 6.99425302e-03]\n",
      " [5.44207753e-04 2.74282277e-01 7.25173533e-01]\n",
      " [1.73761544e-03 3.05245161e-01 6.93017244e-01]\n",
      " [9.39269006e-01 5.25394045e-02 8.19153525e-03]\n",
      " [5.86206734e-04 2.70507455e-01 7.28906333e-01]\n",
      " [4.67823781e-02 5.65143406e-01 3.88074249e-01]\n",
      " [9.33682323e-01 5.73084690e-02 9.00927652e-03]\n",
      " [8.50513518e-01 1.23629764e-01 2.58567110e-02]\n",
      " [1.49579011e-02 4.56395119e-01 5.28646946e-01]\n",
      " [2.66293040e-03 3.10358495e-01 6.86978579e-01]\n",
      " [1.93098013e-03 3.15914243e-01 6.82154834e-01]\n",
      " [9.10342216e-01 7.70429671e-02 1.26148732e-02]\n",
      " [1.48408744e-03 3.11595619e-01 6.86920345e-01]\n",
      " [9.68943298e-01 2.77231093e-02 3.33365356e-03]\n",
      " [2.65532383e-03 3.12614501e-01 6.84730172e-01]\n",
      " [1.81582440e-02 4.94912535e-01 4.86929268e-01]\n",
      " [8.91331792e-01 9.16188061e-02 1.70493294e-02]\n",
      " [8.73893127e-02 5.72483242e-01 3.40127558e-01]\n",
      " [1.26585690e-03 2.65757710e-01 7.32976496e-01]\n",
      " [3.21923010e-02 5.29015660e-01 4.38792050e-01]]\n"
     ]
    }
   ],
   "source": [
    "#prediction for 1st 10 obs.\n",
    "pred = model.predict(x_validation[:45])\n",
    "print(pred)"
   ]
  },
  {
   "cell_type": "code",
   "execution_count": 93,
   "metadata": {},
   "outputs": [
    {
     "name": "stdout",
     "output_type": "stream",
     "text": [
      "[0 2 1 2 2 2 0 0 0 0 2 0 0 1 1 0 2 2 2 0 1 1 0 2 2 0 2 2 0 2 1 0 0 2 2 2 0\n",
      " 2 0 2 1 0 1 2 1]\n",
      "[0 2 1 2 2 1 0 0 0 0 2 0 0 1 1 0 1 2 2 0 1 1 0 2 2 0 2 2 0 2 1 0 0 1 2 2 0\n",
      " 2 0 2 1 0 1 2 1]\n"
     ]
    }
   ],
   "source": [
    "p = np.argmax(pred, axis=1)\n",
    "\n",
    "print(p)\n",
    "print(y_validation[:45])"
   ]
  },
  {
   "cell_type": "code",
   "execution_count": 94,
   "metadata": {},
   "outputs": [
    {
     "data": {
      "image/png": "[encoded data removed]",
      "text/plain": [
       "<Figure size 432x288 with 1 Axes>"
      ]
     },
     "metadata": {
      "needs_background": "light"
     },
     "output_type": "display_data"
    },
    {
     "data": {
      "text/plain": [
       "False"
      ]
     },
     "execution_count": 94,
     "metadata": {},
     "output_type": "execute_result"
    }
   ],
   "source": [
    "q = np.linspace(1,45, num=45)\n",
    "\n",
    "plt.plot(q,p, 'o', color= 'b', label='Prediction')\n",
    "plt.plot(q,y_validation[:45], 'x', color= 'y', label='Validation')\n",
    "plt.grid()\n",
    "plt.legend()\n",
    "plt.show()\n",
    "\n",
    "np.allclose(p, y_validation[:45], rtol=1e-05, atol=1e-08, equal_nan=False)"
   ]
  },
  {
   "cell_type": "code",
   "execution_count": 95,
   "metadata": {},
   "outputs": [
    {
     "name": "stdout",
     "output_type": "stream",
     "text": [
      "prediction-class: 0, Name: setosa\n",
      "prediction-class: 2, Name: virginica\n",
      "prediction-class: 1, Name: versicolor\n",
      "prediction-class: 2, Name: virginica\n",
      "prediction-class: 2, Name: virginica\n",
      "prediction-class: 2, Name: virginica\n",
      "prediction-class: 0, Name: setosa\n",
      "prediction-class: 0, Name: setosa\n",
      "prediction-class: 0, Name: setosa\n",
      "prediction-class: 0, Name: setosa\n",
      "prediction-class: 2, Name: virginica\n",
      "prediction-class: 0, Name: setosa\n",
      "prediction-class: 0, Name: setosa\n",
      "prediction-class: 1, Name: versicolor\n",
      "prediction-class: 1, Name: versicolor\n",
      "prediction-class: 0, Name: setosa\n",
      "prediction-class: 2, Name: virginica\n",
      "prediction-class: 2, Name: virginica\n",
      "prediction-class: 2, Name: virginica\n",
      "prediction-class: 0, Name: setosa\n",
      "prediction-class: 1, Name: versicolor\n",
      "prediction-class: 1, Name: versicolor\n",
      "prediction-class: 0, Name: setosa\n",
      "prediction-class: 2, Name: virginica\n",
      "prediction-class: 2, Name: virginica\n",
      "prediction-class: 0, Name: setosa\n",
      "prediction-class: 2, Name: virginica\n",
      "prediction-class: 2, Name: virginica\n",
      "prediction-class: 0, Name: setosa\n",
      "prediction-class: 2, Name: virginica\n",
      "prediction-class: 1, Name: versicolor\n",
      "prediction-class: 0, Name: setosa\n",
      "prediction-class: 0, Name: setosa\n",
      "prediction-class: 2, Name: virginica\n",
      "prediction-class: 2, Name: virginica\n",
      "prediction-class: 2, Name: virginica\n",
      "prediction-class: 0, Name: setosa\n",
      "prediction-class: 2, Name: virginica\n",
      "prediction-class: 0, Name: setosa\n",
      "prediction-class: 2, Name: virginica\n",
      "prediction-class: 1, Name: versicolor\n",
      "prediction-class: 0, Name: setosa\n",
      "prediction-class: 1, Name: versicolor\n",
      "prediction-class: 2, Name: virginica\n",
      "prediction-class: 1, Name: versicolor\n",
      "validation-class: 0, Name: setosa\n",
      "validation-class: 2, Name: virginica\n",
      "validation-class: 1, Name: versicolor\n",
      "validation-class: 2, Name: virginica\n",
      "validation-class: 2, Name: virginica\n",
      "validation-class: 1, Name: versicolor\n",
      "validation-class: 0, Name: setosa\n",
      "validation-class: 0, Name: setosa\n",
      "validation-class: 0, Name: setosa\n",
      "validation-class: 0, Name: setosa\n",
      "validation-class: 2, Name: virginica\n",
      "validation-class: 0, Name: setosa\n",
      "validation-class: 0, Name: setosa\n",
      "validation-class: 1, Name: versicolor\n",
      "validation-class: 1, Name: versicolor\n",
      "validation-class: 0, Name: setosa\n",
      "validation-class: 1, Name: versicolor\n",
      "validation-class: 2, Name: virginica\n",
      "validation-class: 2, Name: virginica\n",
      "validation-class: 0, Name: setosa\n",
      "validation-class: 1, Name: versicolor\n",
      "validation-class: 1, Name: versicolor\n",
      "validation-class: 0, Name: setosa\n",
      "validation-class: 2, Name: virginica\n",
      "validation-class: 2, Name: virginica\n",
      "validation-class: 0, Name: setosa\n",
      "validation-class: 2, Name: virginica\n",
      "validation-class: 2, Name: virginica\n",
      "validation-class: 0, Name: setosa\n",
      "validation-class: 2, Name: virginica\n",
      "validation-class: 1, Name: versicolor\n",
      "validation-class: 0, Name: setosa\n",
      "validation-class: 0, Name: setosa\n",
      "validation-class: 1, Name: versicolor\n",
      "validation-class: 2, Name: virginica\n",
      "validation-class: 2, Name: virginica\n",
      "validation-class: 0, Name: setosa\n",
      "validation-class: 2, Name: virginica\n",
      "validation-class: 0, Name: setosa\n",
      "validation-class: 2, Name: virginica\n",
      "validation-class: 1, Name: versicolor\n",
      "validation-class: 0, Name: setosa\n",
      "validation-class: 1, Name: versicolor\n",
      "validation-class: 2, Name: virginica\n",
      "validation-class: 1, Name: versicolor\n"
     ]
    }
   ],
   "source": [
    "#prediction result\n",
    "\n",
    "for i in p:\n",
    "\tprint(\"prediction-class: {}, Name: {}\".format(i,z[i]))\n",
    "\n",
    "for i in y_validation[:45]:\n",
    "\tprint(\"validation-class: {}, Name: {}\".format(i,z[i]))"
   ]
  },
  {
   "cell_type": "code",
   "execution_count": null,
   "metadata": {},
   "outputs": [],
   "source": []
  },
  {
   "cell_type": "code",
   "execution_count": null,
   "metadata": {},
   "outputs": [],
   "source": []
  }
 ],
 "metadata": {
  "interpreter": {
   "hash": "0da968955c69b8c4d6286229eccdd06dc68b834baeb58b655010f4a3602dcd08"
  },
  "kernelspec": {
   "display_name": "Python 3.9.7 ('base')",
   "language": "python",
   "name": "python3"
  },
  "language_info": {
   "codemirror_mode": {
    "name": "ipython",
    "version": 3
   },
   "file_extension": ".py",
   "mimetype": "text/x-python",
   "name": "python",
   "nbconvert_exporter": "python",
   "pygments_lexer": "ipython3",
   "version": "3.9.7"
  },
  "orig_nbformat": 4
 },
 "nbformat": 4,
 "nbformat_minor": 2
}
