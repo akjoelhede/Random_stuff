{
 "cells": [
  {
   "cell_type": "code",
   "execution_count": 1,
   "metadata": {},
   "outputs": [],
   "source": [
    "import numpy as np\n",
    "import keras \n",
    "from keras.models import Sequential\n",
    "from keras.layers import Dense, Dropout\n",
    "from sklearn import datasets\n",
    "import matplotlib.pyplot as plt"
   ]
  },
  {
   "cell_type": "code",
   "execution_count": 2,
   "metadata": {},
   "outputs": [],
   "source": [
    "#Data\n",
    "data = datasets.load_iris()\n",
    "\n",
    "#print(data)"
   ]
  },
  {
   "cell_type": "code",
   "execution_count": 3,
   "metadata": {},
   "outputs": [],
   "source": [
    "x = data.data\n",
    "y = data.target\n",
    "z = data.target_names"
   ]
  },
  {
   "cell_type": "code",
   "execution_count": 4,
   "metadata": {},
   "outputs": [
    {
     "name": "stdout",
     "output_type": "stream",
     "text": [
      "(105, 4)\n",
      "(45, 4)\n"
     ]
    }
   ],
   "source": [
    "#split dataset\n",
    "from sklearn.model_selection import train_test_split\n",
    "x_train, x_validation, y_train, y_validation = train_test_split(x, y, test_size=0.3)\n",
    "\n",
    "#data shapes\n",
    "print(x_train.shape)\n",
    "print(x_validation.shape)"
   ]
  },
  {
   "cell_type": "code",
   "execution_count": 5,
   "metadata": {},
   "outputs": [
    {
     "name": "stderr",
     "output_type": "stream",
     "text": [
      "2022-02-16 13:30:46.545287: I tensorflow/core/platform/cpu_feature_guard.cc:151] This TensorFlow binary is optimized with oneAPI Deep Neural Network Library (oneDNN) to use the following CPU instructions in performance-critical operations:  AVX2 FMA\n",
      "To enable them in other operations, rebuild TensorFlow with the appropriate compiler flags.\n"
     ]
    }
   ],
   "source": [
    "#Build model\n",
    "model = Sequential()\n",
    "model.add(Dense(100,input_shape=(4,), activation='relu'))\n",
    "model.add(Dropout(0.4))\n",
    "model.add(Dense(3, activation='softmax'))"
   ]
  },
  {
   "cell_type": "code",
   "execution_count": 6,
   "metadata": {},
   "outputs": [
    {
     "name": "stdout",
     "output_type": "stream",
     "text": [
      "Model: \"sequential\"\n",
      "_________________________________________________________________\n",
      " Layer (type)                Output Shape              Param #   \n",
      "=================================================================\n",
      " dense (Dense)               (None, 100)               500       \n",
      "                                                                 \n",
      " dropout (Dropout)           (None, 100)               0         \n",
      "                                                                 \n",
      " dense_1 (Dense)             (None, 3)                 303       \n",
      "                                                                 \n",
      "=================================================================\n",
      "Total params: 803\n",
      "Trainable params: 803\n",
      "Non-trainable params: 0\n",
      "_________________________________________________________________\n"
     ]
    }
   ],
   "source": [
    "model.summary()"
   ]
  },
  {
   "cell_type": "code",
   "execution_count": 7,
   "metadata": {},
   "outputs": [],
   "source": [
    "#compile model\n",
    "model.compile(optimizer=\"adam\", loss=\"sparse_categorical_crossentropy\", metrics=[\"accuracy\"])"
   ]
  },
  {
   "cell_type": "code",
   "execution_count": 8,
   "metadata": {},
   "outputs": [
    {
     "name": "stdout",
     "output_type": "stream",
     "text": [
      "Epoch 1/50\n",
      "4/4 [==============================] - 1s 4ms/step - loss: 1.6655 - accuracy: 0.3048\n",
      "Epoch 2/50\n",
      "4/4 [==============================] - 0s 9ms/step - loss: 1.5109 - accuracy: 0.3143\n",
      "Epoch 3/50\n",
      "4/4 [==============================] - 0s 5ms/step - loss: 1.5297 - accuracy: 0.3238\n",
      "Epoch 4/50\n",
      "4/4 [==============================] - 0s 6ms/step - loss: 1.3329 - accuracy: 0.3333\n",
      "Epoch 5/50\n",
      "4/4 [==============================] - 0s 12ms/step - loss: 1.3422 - accuracy: 0.3238\n",
      "Epoch 6/50\n",
      "4/4 [==============================] - 0s 10ms/step - loss: 1.2968 - accuracy: 0.2952\n",
      "Epoch 7/50\n",
      "4/4 [==============================] - 0s 5ms/step - loss: 1.2901 - accuracy: 0.3429\n",
      "Epoch 8/50\n",
      "4/4 [==============================] - 0s 6ms/step - loss: 1.2253 - accuracy: 0.3524\n",
      "Epoch 9/50\n",
      "4/4 [==============================] - 0s 5ms/step - loss: 1.0970 - accuracy: 0.5048\n",
      "Epoch 10/50\n",
      "4/4 [==============================] - 0s 3ms/step - loss: 1.1498 - accuracy: 0.3905\n",
      "Epoch 11/50\n",
      "4/4 [==============================] - 0s 4ms/step - loss: 1.1105 - accuracy: 0.4381\n",
      "Epoch 12/50\n",
      "4/4 [==============================] - 0s 6ms/step - loss: 1.0562 - accuracy: 0.4857\n",
      "Epoch 13/50\n",
      "4/4 [==============================] - 0s 5ms/step - loss: 0.9886 - accuracy: 0.5429\n",
      "Epoch 14/50\n",
      "4/4 [==============================] - 0s 5ms/step - loss: 0.8921 - accuracy: 0.5429\n",
      "Epoch 15/50\n",
      "4/4 [==============================] - 0s 8ms/step - loss: 1.0134 - accuracy: 0.4857\n",
      "Epoch 16/50\n",
      "4/4 [==============================] - 0s 5ms/step - loss: 0.9622 - accuracy: 0.5619\n",
      "Epoch 17/50\n",
      "4/4 [==============================] - 0s 9ms/step - loss: 0.9470 - accuracy: 0.5143\n",
      "Epoch 18/50\n",
      "4/4 [==============================] - 0s 5ms/step - loss: 0.9171 - accuracy: 0.5333\n",
      "Epoch 19/50\n",
      "4/4 [==============================] - 0s 19ms/step - loss: 0.9071 - accuracy: 0.5619\n",
      "Epoch 20/50\n",
      "4/4 [==============================] - 0s 7ms/step - loss: 0.8076 - accuracy: 0.6952\n",
      "Epoch 21/50\n",
      "4/4 [==============================] - 0s 7ms/step - loss: 0.8355 - accuracy: 0.6190\n",
      "Epoch 22/50\n",
      "4/4 [==============================] - 0s 5ms/step - loss: 0.8576 - accuracy: 0.5524\n",
      "Epoch 23/50\n",
      "4/4 [==============================] - 0s 10ms/step - loss: 0.7868 - accuracy: 0.6190\n",
      "Epoch 24/50\n",
      "4/4 [==============================] - 0s 4ms/step - loss: 0.7317 - accuracy: 0.6381\n",
      "Epoch 25/50\n",
      "4/4 [==============================] - 0s 4ms/step - loss: 0.8160 - accuracy: 0.5905\n",
      "Epoch 26/50\n",
      "4/4 [==============================] - 0s 6ms/step - loss: 0.7549 - accuracy: 0.5905\n",
      "Epoch 27/50\n",
      "4/4 [==============================] - 0s 4ms/step - loss: 0.7153 - accuracy: 0.6952\n",
      "Epoch 28/50\n",
      "4/4 [==============================] - 0s 4ms/step - loss: 0.8152 - accuracy: 0.5238\n",
      "Epoch 29/50\n",
      "4/4 [==============================] - 0s 5ms/step - loss: 0.7206 - accuracy: 0.6952\n",
      "Epoch 30/50\n",
      "4/4 [==============================] - 0s 3ms/step - loss: 0.7354 - accuracy: 0.6095\n",
      "Epoch 31/50\n",
      "4/4 [==============================] - 0s 3ms/step - loss: 0.6723 - accuracy: 0.7238\n",
      "Epoch 32/50\n",
      "4/4 [==============================] - 0s 4ms/step - loss: 0.6725 - accuracy: 0.7143\n",
      "Epoch 33/50\n",
      "4/4 [==============================] - 0s 5ms/step - loss: 0.7155 - accuracy: 0.6571\n",
      "Epoch 34/50\n",
      "4/4 [==============================] - 0s 5ms/step - loss: 0.7312 - accuracy: 0.6381\n",
      "Epoch 35/50\n",
      "4/4 [==============================] - 0s 3ms/step - loss: 0.5594 - accuracy: 0.7238\n",
      "Epoch 36/50\n",
      "4/4 [==============================] - 0s 3ms/step - loss: 0.6769 - accuracy: 0.6381\n",
      "Epoch 37/50\n",
      "4/4 [==============================] - 0s 4ms/step - loss: 0.5862 - accuracy: 0.6857\n",
      "Epoch 38/50\n",
      "4/4 [==============================] - 0s 5ms/step - loss: 0.6198 - accuracy: 0.7143\n",
      "Epoch 39/50\n",
      "4/4 [==============================] - 0s 7ms/step - loss: 0.5566 - accuracy: 0.7810\n",
      "Epoch 40/50\n",
      "4/4 [==============================] - 0s 4ms/step - loss: 0.6574 - accuracy: 0.6762\n",
      "Epoch 41/50\n",
      "4/4 [==============================] - 0s 3ms/step - loss: 0.5940 - accuracy: 0.7429\n",
      "Epoch 42/50\n",
      "4/4 [==============================] - 0s 5ms/step - loss: 0.6456 - accuracy: 0.6381\n",
      "Epoch 43/50\n",
      "4/4 [==============================] - 0s 5ms/step - loss: 0.6185 - accuracy: 0.7143\n",
      "Epoch 44/50\n",
      "4/4 [==============================] - 0s 5ms/step - loss: 0.5685 - accuracy: 0.7619\n",
      "Epoch 45/50\n",
      "4/4 [==============================] - 0s 3ms/step - loss: 0.6316 - accuracy: 0.7524\n",
      "Epoch 46/50\n",
      "4/4 [==============================] - 0s 5ms/step - loss: 0.6040 - accuracy: 0.7143\n",
      "Epoch 47/50\n",
      "4/4 [==============================] - 0s 4ms/step - loss: 0.5418 - accuracy: 0.7619\n",
      "Epoch 48/50\n",
      "4/4 [==============================] - 0s 3ms/step - loss: 0.5787 - accuracy: 0.6857\n",
      "Epoch 49/50\n",
      "4/4 [==============================] - 0s 5ms/step - loss: 0.5597 - accuracy: 0.7333\n",
      "Epoch 50/50\n",
      "4/4 [==============================] - 0s 3ms/step - loss: 0.5445 - accuracy: 0.7143\n"
     ]
    }
   ],
   "source": [
    "#fit the model\n",
    "hist = model.fit(x_train,y_train, epochs=50)"
   ]
  },
  {
   "cell_type": "code",
   "execution_count": 9,
   "metadata": {},
   "outputs": [
    {
     "data": {
      "text/plain": [
       "Text(0.5, 0, 'epoch')"
      ]
     },
     "execution_count": 9,
     "metadata": {},
     "output_type": "execute_result"
    },
    {
     "data": {
      "image/png": "[encoded data removed]",
      "text/plain": [
       "<Figure size 432x288 with 1 Axes>"
      ]
     },
     "metadata": {
      "needs_background": "light"
     },
     "output_type": "display_data"
    },
    {
     "data": {
      "image/png": "[encoded data removed]",
      "text/plain": [
       "<Figure size 432x288 with 1 Axes>"
      ]
     },
     "metadata": {
      "needs_background": "light"
     },
     "output_type": "display_data"
    }
   ],
   "source": [
    "plt.figure()\n",
    "#plt.plot(hist.history['validation_loss'], 'b')\n",
    "plt.plot(hist.history['loss'], 'r')\n",
    "plt.ylabel('loss')\n",
    "\n",
    "plt.figure()\n",
    "#plt.plot(hist.history['validation_accuracy'], 'b')\n",
    "plt.plot(hist.history['accuracy'], 'r')\n",
    "plt.ylabel('acc')\n",
    "plt.xlabel('epoch')"
   ]
  },
  {
   "cell_type": "code",
   "execution_count": 10,
   "metadata": {},
   "outputs": [
    {
     "name": "stdout",
     "output_type": "stream",
     "text": [
      "2/2 [==============================] - 0s 3ms/step - loss: 0.3963 - accuracy: 1.0000\n"
     ]
    },
    {
     "data": {
      "text/plain": [
       "[0.3962904214859009, 1.0]"
      ]
     },
     "execution_count": 10,
     "metadata": {},
     "output_type": "execute_result"
    }
   ],
   "source": [
    "#evaluate\n",
    "model.evaluate(x_validation, y_validation)"
   ]
  },
  {
   "cell_type": "code",
   "execution_count": 11,
   "metadata": {},
   "outputs": [
    {
     "name": "stdout",
     "output_type": "stream",
     "text": [
      "[[0.10733545 0.5007099  0.3919546 ]\n",
      " [0.09813596 0.5232431  0.37862086]\n",
      " [0.82865334 0.12962689 0.04171977]\n",
      " [0.8808171  0.09190631 0.02727661]\n",
      " [0.8264471  0.12646112 0.04709176]\n",
      " [0.8384045  0.11600267 0.04559293]\n",
      " [0.09003035 0.5357665  0.37420315]\n",
      " [0.017666   0.3770704  0.6052636 ]\n",
      " [0.83423424 0.12635155 0.03941425]\n",
      " [0.82326436 0.1266216  0.050114  ]]\n"
     ]
    }
   ],
   "source": [
    "#prediction for 1st 10 obs.\n",
    "pred = model.predict(x_validation[:10])\n",
    "print(pred)"
   ]
  },
  {
   "cell_type": "code",
   "execution_count": 12,
   "metadata": {},
   "outputs": [
    {
     "name": "stdout",
     "output_type": "stream",
     "text": [
      "[1 1 0 0 0 0 1 2 0 0]\n",
      "[1 1 0 0 0 0 1 2 0 0]\n"
     ]
    }
   ],
   "source": [
    "p = np.argmax(pred, axis=1)\n",
    "\n",
    "print(p)\n",
    "print(y_validation[:10])"
   ]
  },
  {
   "cell_type": "code",
   "execution_count": 13,
   "metadata": {},
   "outputs": [
    {
     "name": "stdout",
     "output_type": "stream",
     "text": [
      "prediction-class: 1, Name: versicolor\n",
      "prediction-class: 1, Name: versicolor\n",
      "prediction-class: 0, Name: setosa\n",
      "prediction-class: 0, Name: setosa\n",
      "prediction-class: 0, Name: setosa\n",
      "prediction-class: 0, Name: setosa\n",
      "prediction-class: 1, Name: versicolor\n",
      "prediction-class: 2, Name: virginica\n",
      "prediction-class: 0, Name: setosa\n",
      "prediction-class: 0, Name: setosa\n"
     ]
    }
   ],
   "source": [
    "#prediction result\n",
    "\n",
    "for i in p:\n",
    "\tprint(\"prediction-class: {}, Name: {}\".format(i,z[i]))"
   ]
  },
  {
   "cell_type": "code",
   "execution_count": null,
   "metadata": {},
   "outputs": [],
   "source": []
  }
 ],
 "metadata": {
  "interpreter": {
   "hash": "0da968955c69b8c4d6286229eccdd06dc68b834baeb58b655010f4a3602dcd08"
  },
  "kernelspec": {
   "display_name": "Python 3.9.7 ('base')",
   "language": "python",
   "name": "python3"
  },
  "language_info": {
   "codemirror_mode": {
    "name": "ipython",
    "version": 3
   },
   "file_extension": ".py",
   "mimetype": "text/x-python",
   "name": "python",
   "nbconvert_exporter": "python",
   "pygments_lexer": "ipython3",
   "version": "3.9.7"
  },
  "orig_nbformat": 4
 },
 "nbformat": 4,
 "nbformat_minor": 2
}
