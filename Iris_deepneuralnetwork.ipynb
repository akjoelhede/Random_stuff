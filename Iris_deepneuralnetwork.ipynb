{
 "cells": [
  {
   "cell_type": "code",
   "execution_count": 54,
   "metadata": {},
   "outputs": [],
   "source": [
    "import numpy as np\n",
    "import keras \n",
    "from keras.models import Sequential\n",
    "from keras.layers import Dense, Dropout\n",
    "from sklearn import datasets\n",
    "import matplotlib.pyplot as plt"
   ]
  },
  {
   "cell_type": "code",
   "execution_count": 55,
   "metadata": {},
   "outputs": [],
   "source": [
    "#Data\n",
    "data = datasets.load_iris()\n",
    "\n",
    "#print(data)"
   ]
  },
  {
   "cell_type": "code",
   "execution_count": 56,
   "metadata": {},
   "outputs": [],
   "source": [
    "x = data.data\n",
    "y = data.target\n",
    "z = data.target_names"
   ]
  },
  {
   "cell_type": "code",
   "execution_count": 57,
   "metadata": {},
   "outputs": [
    {
     "name": "stdout",
     "output_type": "stream",
     "text": [
      "(105, 4)\n",
      "(45, 4)\n"
     ]
    }
   ],
   "source": [
    "#split dataset\n",
    "from sklearn.model_selection import train_test_split\n",
    "x_train, x_validation, y_train, y_validation = train_test_split(x, y, test_size=0.3)\n",
    "\n",
    "#data shapes\n",
    "print(x_train.shape)\n",
    "print(x_validation.shape)"
   ]
  },
  {
   "cell_type": "code",
   "execution_count": 58,
   "metadata": {},
   "outputs": [],
   "source": [
    "#Build model\n",
    "model = Sequential()\n",
    "model.add(Dense(100,input_shape=(4,), activation='relu'))\n",
    "model.add(Dropout(0.4))\n",
    "model.add(Dense(3, activation='softmax'))"
   ]
  },
  {
   "cell_type": "code",
   "execution_count": 59,
   "metadata": {},
   "outputs": [
    {
     "name": "stdout",
     "output_type": "stream",
     "text": [
      "Model: \"sequential_3\"\n",
      "_________________________________________________________________\n",
      " Layer (type)                Output Shape              Param #   \n",
      "=================================================================\n",
      " dense_5 (Dense)             (None, 100)               500       \n",
      "                                                                 \n",
      " dropout_1 (Dropout)         (None, 100)               0         \n",
      "                                                                 \n",
      " dense_6 (Dense)             (None, 3)                 303       \n",
      "                                                                 \n",
      "=================================================================\n",
      "Total params: 803\n",
      "Trainable params: 803\n",
      "Non-trainable params: 0\n",
      "_________________________________________________________________\n"
     ]
    }
   ],
   "source": [
    "model.summary()"
   ]
  },
  {
   "cell_type": "code",
   "execution_count": 60,
   "metadata": {},
   "outputs": [],
   "source": [
    "#compile model\n",
    "model.compile(optimizer=\"adam\", loss=\"sparse_categorical_crossentropy\", metrics=[\"accuracy\"])"
   ]
  },
  {
   "cell_type": "code",
   "execution_count": 61,
   "metadata": {},
   "outputs": [
    {
     "name": "stdout",
     "output_type": "stream",
     "text": [
      "Epoch 1/30\n",
      "4/4 [==============================] - 1s 9ms/step - loss: 1.6435 - accuracy: 0.2857\n",
      "Epoch 2/30\n",
      "4/4 [==============================] - 0s 4ms/step - loss: 1.5076 - accuracy: 0.4000\n",
      "Epoch 3/30\n",
      "4/4 [==============================] - 0s 7ms/step - loss: 1.5637 - accuracy: 0.2952\n",
      "Epoch 4/30\n",
      "4/4 [==============================] - 0s 4ms/step - loss: 1.3545 - accuracy: 0.3048\n",
      "Epoch 5/30\n",
      "4/4 [==============================] - 0s 5ms/step - loss: 1.2918 - accuracy: 0.3619\n",
      "Epoch 6/30\n",
      "4/4 [==============================] - 0s 7ms/step - loss: 1.1501 - accuracy: 0.3619\n",
      "Epoch 7/30\n",
      "4/4 [==============================] - 0s 5ms/step - loss: 1.2124 - accuracy: 0.3524\n",
      "Epoch 8/30\n",
      "4/4 [==============================] - 0s 6ms/step - loss: 1.1599 - accuracy: 0.3714\n",
      "Epoch 9/30\n",
      "4/4 [==============================] - 0s 12ms/step - loss: 0.9611 - accuracy: 0.5238\n",
      "Epoch 10/30\n",
      "4/4 [==============================] - 0s 10ms/step - loss: 0.9949 - accuracy: 0.5048\n",
      "Epoch 11/30\n",
      "4/4 [==============================] - 0s 15ms/step - loss: 1.0266 - accuracy: 0.4571\n",
      "Epoch 12/30\n",
      "4/4 [==============================] - 0s 12ms/step - loss: 0.8658 - accuracy: 0.5905\n",
      "Epoch 13/30\n",
      "4/4 [==============================] - 0s 7ms/step - loss: 0.8469 - accuracy: 0.5810\n",
      "Epoch 14/30\n",
      "4/4 [==============================] - 0s 8ms/step - loss: 0.9088 - accuracy: 0.4667\n",
      "Epoch 15/30\n",
      "4/4 [==============================] - 0s 7ms/step - loss: 0.7767 - accuracy: 0.6095\n",
      "Epoch 16/30\n",
      "4/4 [==============================] - 0s 6ms/step - loss: 0.8272 - accuracy: 0.5048\n",
      "Epoch 17/30\n",
      "4/4 [==============================] - 0s 5ms/step - loss: 0.7723 - accuracy: 0.6000\n",
      "Epoch 18/30\n",
      "4/4 [==============================] - 0s 6ms/step - loss: 0.7822 - accuracy: 0.6000\n",
      "Epoch 19/30\n",
      "4/4 [==============================] - 0s 6ms/step - loss: 0.7927 - accuracy: 0.6095\n",
      "Epoch 20/30\n",
      "4/4 [==============================] - 0s 5ms/step - loss: 0.7508 - accuracy: 0.6476\n",
      "Epoch 21/30\n",
      "4/4 [==============================] - 0s 5ms/step - loss: 0.6642 - accuracy: 0.7048\n",
      "Epoch 22/30\n",
      "4/4 [==============================] - 0s 11ms/step - loss: 0.7760 - accuracy: 0.6000\n",
      "Epoch 23/30\n",
      "4/4 [==============================] - 0s 9ms/step - loss: 0.6404 - accuracy: 0.7619\n",
      "Epoch 24/30\n",
      "4/4 [==============================] - 0s 6ms/step - loss: 0.6102 - accuracy: 0.7524\n",
      "Epoch 25/30\n",
      "4/4 [==============================] - 0s 5ms/step - loss: 0.6462 - accuracy: 0.6952\n",
      "Epoch 26/30\n",
      "4/4 [==============================] - 0s 5ms/step - loss: 0.5915 - accuracy: 0.7143\n",
      "Epoch 27/30\n",
      "4/4 [==============================] - 0s 5ms/step - loss: 0.6082 - accuracy: 0.7238\n",
      "Epoch 28/30\n",
      "4/4 [==============================] - 0s 7ms/step - loss: 0.6034 - accuracy: 0.7714\n",
      "Epoch 29/30\n",
      "4/4 [==============================] - 0s 4ms/step - loss: 0.5604 - accuracy: 0.7619\n",
      "Epoch 30/30\n",
      "4/4 [==============================] - 0s 8ms/step - loss: 0.5906 - accuracy: 0.7238\n"
     ]
    }
   ],
   "source": [
    "#fit the model\n",
    "hist = model.fit(x_train,y_train, epochs=30)"
   ]
  },
  {
   "cell_type": "code",
   "execution_count": 62,
   "metadata": {},
   "outputs": [
    {
     "data": {
      "text/plain": [
       "Text(0.5, 0, 'epoch')"
      ]
     },
     "execution_count": 62,
     "metadata": {},
     "output_type": "execute_result"
    },
    {
     "data": {
      "image/png": "[encoded data removed]",
      "text/plain": [
       "<Figure size 432x288 with 1 Axes>"
      ]
     },
     "metadata": {
      "needs_background": "light"
     },
     "output_type": "display_data"
    },
    {
     "data": {
      "image/png": "[encoded data removed]",
      "text/plain": [
       "<Figure size 432x288 with 1 Axes>"
      ]
     },
     "metadata": {
      "needs_background": "light"
     },
     "output_type": "display_data"
    }
   ],
   "source": [
    "plt.figure()\n",
    "#plt.plot(hist.history['validation_loss'], 'b')\n",
    "plt.plot(hist.history['loss'], 'r')\n",
    "plt.ylabel('loss')\n",
    "\n",
    "plt.figure()\n",
    "#plt.plot(hist.history['validation_accuracy'], 'b')\n",
    "plt.plot(hist.history['accuracy'], 'r')\n",
    "plt.ylabel('acc')\n",
    "plt.xlabel('epoch')"
   ]
  },
  {
   "cell_type": "code",
   "execution_count": 63,
   "metadata": {},
   "outputs": [
    {
     "name": "stdout",
     "output_type": "stream",
     "text": [
      "2/2 [==============================] - 1s 4ms/step - loss: 0.5084 - accuracy: 0.8889\n"
     ]
    },
    {
     "data": {
      "text/plain": [
       "[0.5084112286567688, 0.8888888955116272]"
      ]
     },
     "execution_count": 63,
     "metadata": {},
     "output_type": "execute_result"
    }
   ],
   "source": [
    "#evaluate\n",
    "model.evaluate(x_validation, y_validation)"
   ]
  },
  {
   "cell_type": "code",
   "execution_count": 64,
   "metadata": {},
   "outputs": [
    {
     "name": "stdout",
     "output_type": "stream",
     "text": [
      "[[0.8449598  0.12710586 0.02793434]\n",
      " [0.0297967  0.44049102 0.52971226]\n",
      " [0.02669209 0.4337697  0.5395382 ]\n",
      " [0.8645413  0.1078722  0.0275865 ]\n",
      " [0.04962933 0.41099513 0.53937554]\n",
      " [0.02633864 0.38055283 0.59310853]\n",
      " [0.01842089 0.36303923 0.6185399 ]\n",
      " [0.10914941 0.52163875 0.36921188]\n",
      " [0.06934124 0.51814276 0.41251606]\n",
      " [0.21496862 0.49760464 0.2874268 ]]\n"
     ]
    }
   ],
   "source": [
    "#prediction for 1st 10 obs.\n",
    "pred = model.predict(x_validation[:10])\n",
    "print(pred)"
   ]
  },
  {
   "cell_type": "code",
   "execution_count": 65,
   "metadata": {},
   "outputs": [
    {
     "name": "stdout",
     "output_type": "stream",
     "text": [
      "[0 2 2 0 2 2 2 1 1 1]\n",
      "[0 2 2 0 2 2 2 1 1 1]\n"
     ]
    }
   ],
   "source": [
    "p = np.argmax(pred, axis=1)\n",
    "\n",
    "print(p)\n",
    "print(y_validation[:10])"
   ]
  },
  {
   "cell_type": "code",
   "execution_count": 66,
   "metadata": {},
   "outputs": [
    {
     "name": "stdout",
     "output_type": "stream",
     "text": [
      "prediction-class: 0, Name: setosa\n",
      "prediction-class: 2, Name: virginica\n",
      "prediction-class: 2, Name: virginica\n",
      "prediction-class: 0, Name: setosa\n",
      "prediction-class: 2, Name: virginica\n",
      "prediction-class: 2, Name: virginica\n",
      "prediction-class: 2, Name: virginica\n",
      "prediction-class: 1, Name: versicolor\n",
      "prediction-class: 1, Name: versicolor\n",
      "prediction-class: 1, Name: versicolor\n"
     ]
    }
   ],
   "source": [
    "#prediction result\n",
    "\n",
    "for i in p:\n",
    "\tprint(\"prediction-class: {}, Name: {}\".format(i,z[i]))"
   ]
  },
  {
   "cell_type": "code",
   "execution_count": null,
   "metadata": {},
   "outputs": [],
   "source": []
  }
 ],
 "metadata": {
  "interpreter": {
   "hash": "0da968955c69b8c4d6286229eccdd06dc68b834baeb58b655010f4a3602dcd08"
  },
  "kernelspec": {
   "display_name": "Python 3.9.7 ('base')",
   "language": "python",
   "name": "python3"
  },
  "language_info": {
   "codemirror_mode": {
    "name": "ipython",
    "version": 3
   },
   "file_extension": ".py",
   "mimetype": "text/x-python",
   "name": "python",
   "nbconvert_exporter": "python",
   "pygments_lexer": "ipython3",
   "version": "3.9.7"
  },
  "orig_nbformat": 4
 },
 "nbformat": 4,
 "nbformat_minor": 2
}
