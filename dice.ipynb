{
 "cells": [
  {
   "cell_type": "code",
   "execution_count": 2,
   "metadata": {},
   "outputs": [],
   "source": [
    "import numpy as np\n",
    "from random import randint"
   ]
  },
  {
   "cell_type": "code",
   "execution_count": 37,
   "metadata": {},
   "outputs": [],
   "source": [
    "def roller(n,die):\n",
    "\n",
    "\tdice = []\n",
    "\tfor i in range(n):\n",
    "\t\tx = randint(1, die)\n",
    "\t\tdice.append(x)\n",
    "\n",
    "\treturn np.array(dice)\n",
    "\n",
    "def roll_real(n, i):\n",
    "\n",
    "\tn = n\n",
    "\ti = i\n",
    "\t#\t\t      0 1 2 3  4  5  6\n",
    "\tdice_type = np.array([4,6,8,10,12,20,100])\n",
    "\ttype_index = np.array(['d4','d6','d8','d10','d12','d20','d100'])\n",
    "\n",
    "\tresult = roller(n,dice_type[i])\n",
    "\n",
    "\tprint(f'You rolled {n} {type_index[i]} die/dice and got {result} and the sum is {np.sum(result)}')\n"
   ]
  },
  {
   "cell_type": "code",
   "execution_count": 49,
   "metadata": {},
   "outputs": [
    {
     "name": "stdout",
     "output_type": "stream",
     "text": [
      "You rolled 1 d20 die/dice and got [8] and the sum is 8\n"
     ]
    }
   ],
   "source": [
    "roll_real(1,5)"
   ]
  },
  {
   "cell_type": "code",
   "execution_count": null,
   "metadata": {},
   "outputs": [],
   "source": []
  },
  {
   "cell_type": "code",
   "execution_count": null,
   "metadata": {},
   "outputs": [],
   "source": []
  }
 ],
 "metadata": {
  "kernelspec": {
   "display_name": "Python 3",
   "language": "python",
   "name": "python3"
  },
  "language_info": {
   "codemirror_mode": {
    "name": "ipython",
    "version": 3
   },
   "file_extension": ".py",
   "mimetype": "text/x-python",
   "name": "python",
   "nbconvert_exporter": "python",
   "pygments_lexer": "ipython3",
   "version": "3.9.10"
  },
  "orig_nbformat": 4,
  "vscode": {
   "interpreter": {
    "hash": "aee8b7b246df8f9039afb4144a1f6fd8d2ca17a180786b69acc140d282b71a49"
   }
  }
 },
 "nbformat": 4,
 "nbformat_minor": 2
}
